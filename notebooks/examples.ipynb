{
 "cells": [
  {
   "cell_type": "markdown",
   "source": [
    "# Notebook with several usage examples"
   ],
   "metadata": {
    "collapsed": false
   }
  },
  {
   "cell_type": "code",
   "execution_count": 4,
   "outputs": [
    {
     "data": {
      "text/plain": "PosixPath('/home/antonkulaga/sources/getpaper/notebooks/data/output/test/papers')"
     },
     "execution_count": 4,
     "metadata": {},
     "output_type": "execute_result"
    }
   ],
   "source": [
    "\n",
    "from pathlib import Path\n",
    "import polars as pl\n",
    "from getpaper.download import download_papers\n",
    "dois = [\"10.3390/ijms22031073\", \"10.1038/s41597-020-00710-z\", \"wrong\"]\n",
    "base = Path(\"..\")\n",
    "destination = (base / \"data/output/test/papers\").absolute().resolve()"
   ],
   "metadata": {
    "collapsed": false,
    "ExecuteTime": {
     "end_time": "2023-06-22T20:43:55.885928736Z",
     "start_time": "2023-06-22T20:43:55.574523089Z"
    }
   }
  },
  {
   "cell_type": "code",
   "execution_count": 5,
   "outputs": [
    {
     "name": "stderr",
     "output_type": "stream",
     "text": [
      "[INFO] | 2023/06/22 23:43:57 | Choose scihub url [0]: https://sci-hub.ru\n",
      "[INFO] | 2023/06/22 23:43:57 | <- Request: scihub_url=https://sci-hub.ru, source=DoiSource[type=doi, id=doi.org/wrong], proxies={}\n"
     ]
    },
    {
     "name": "stdout",
     "output_type": "stream",
     "text": [
      "Paper /home/antonkulaga/sources/getpaper/notebooks/data/output/test/papers/10.3390/ijms22031073.pdf for 10.3390/ijms22031073 already exists!\n",
      "Paper /home/antonkulaga/sources/getpaper/notebooks/data/output/test/papers/10.1038/s41597-020-00710-z.pdf for 10.1038/s41597-020-00710-z already exists!\n"
     ]
    },
    {
     "name": "stderr",
     "output_type": "stream",
     "text": [
      "[INFO] | 2023/06/22 23:43:57 | -> Response: status_code=200, content_length=5814\n",
      "[WARNING] | 2023/06/22 23:43:57 | Error occurs, task status: extracting_failed, error: No pdf tag was found in the given content with the selector: #pdf\n",
      "[INFO] | 2023/06/22 23:43:57 | Choose scihub url [1]: http://sci-hub.st\n",
      "[INFO] | 2023/06/22 23:43:57 | <- Request: scihub_url=http://sci-hub.st, source=DoiSource[type=doi, id=doi.org/wrong], proxies={}\n",
      "[INFO] | 2023/06/22 23:43:58 | -> Response: status_code=200, content_length=5814\n",
      "[WARNING] | 2023/06/22 23:43:58 | Error occurs, task status: extracting_failed, error: No pdf tag was found in the given content with the selector: #pdf\n",
      "[INFO] | 2023/06/22 23:43:58 | Choose scihub url [2]: http://sci-hub.se\n",
      "[INFO] | 2023/06/22 23:43:58 | <- Request: scihub_url=http://sci-hub.se, source=DoiSource[type=doi, id=doi.org/wrong], proxies={}\n",
      "[INFO] | 2023/06/22 23:43:58 | -> Response: status_code=200, content_length=5814\n",
      "[WARNING] | 2023/06/22 23:43:58 | Error occurs, task status: extracting_failed, error: No pdf tag was found in the given content with the selector: #pdf\n",
      "[INFO] | 2023/06/22 23:43:58 | Choose scihub url [3]: https://sci-hub.st\n",
      "[INFO] | 2023/06/22 23:43:58 | <- Request: scihub_url=https://sci-hub.st, source=DoiSource[type=doi, id=doi.org/wrong], proxies={}\n",
      "[INFO] | 2023/06/22 23:43:59 | -> Response: status_code=200, content_length=5814\n",
      "[WARNING] | 2023/06/22 23:43:59 | Error occurs, task status: extracting_failed, error: No pdf tag was found in the given content with the selector: #pdf\n",
      "[INFO] | 2023/06/22 23:43:59 | Choose scihub url [4]: http://sci-hub.ru\n",
      "[INFO] | 2023/06/22 23:43:59 | <- Request: scihub_url=http://sci-hub.ru, source=DoiSource[type=doi, id=doi.org/wrong], proxies={}\n",
      "[INFO] | 2023/06/22 23:43:59 | -> Response: status_code=200, content_length=5814\n",
      "[WARNING] | 2023/06/22 23:43:59 | Error occurs, task status: extracting_failed, error: No pdf tag was found in the given content with the selector: #pdf\n",
      "[INFO] | 2023/06/22 23:43:59 | Choose scihub url [5]: https://sci-hub.se\n",
      "[INFO] | 2023/06/22 23:43:59 | <- Request: scihub_url=https://sci-hub.se, source=DoiSource[type=doi, id=doi.org/wrong], proxies={}\n",
      "[INFO] | 2023/06/22 23:44:00 | -> Response: status_code=200, content_length=5814\n",
      "[WARNING] | 2023/06/22 23:44:00 | Error occurs, task status: extracting_failed, error: No pdf tag was found in the given content with the selector: #pdf\n",
      "[ERROR] | 2023/06/22 23:44:00 | Failed to download the paper: https://doi.org/wrong. Please try again.\n"
     ]
    },
    {
     "name": "stdout",
     "output_type": "stream",
     "text": [
      "DOWNLOADED IS [('10.3390/ijms22031073', PosixPath('/home/antonkulaga/sources/getpaper/notebooks/data/output/test/papers/10.3390/ijms22031073.pdf')), ('10.1038/s41597-020-00710-z', PosixPath('/home/antonkulaga/sources/getpaper/notebooks/data/output/test/papers/10.1038/s41597-020-00710-z.pdf')), ('wrong', <class 'pathlib.Path'>)]\n",
      "=====(OrderedDict([('10.3390/ijms22031073', PosixPath('/home/antonkulaga/sources/getpaper/notebooks/data/output/test/papers/10.3390/ijms22031073.pdf')), ('10.1038/s41597-020-00710-z', PosixPath('/home/antonkulaga/sources/getpaper/notebooks/data/output/test/papers/10.1038/s41597-020-00710-z.pdf'))]), ['wrong'])====\n"
     ]
    },
    {
     "data": {
      "text/plain": "(OrderedDict([('10.3390/ijms22031073',\n               PosixPath('/home/antonkulaga/sources/getpaper/notebooks/data/output/test/papers/10.3390/ijms22031073.pdf')),\n              ('10.1038/s41597-020-00710-z',\n               PosixPath('/home/antonkulaga/sources/getpaper/notebooks/data/output/test/papers/10.1038/s41597-020-00710-z.pdf'))]),\n ['wrong'])"
     },
     "execution_count": 5,
     "metadata": {},
     "output_type": "execute_result"
    }
   ],
   "source": [
    "import nest_asyncio\n",
    "nest_asyncio.apply()\n",
    "\n",
    "# Now you can call your function\n",
    "results = download_papers(dois, destination, threads=3)\n",
    "results"
   ],
   "metadata": {
    "collapsed": false,
    "ExecuteTime": {
     "end_time": "2023-06-22T20:44:00.132611922Z",
     "start_time": "2023-06-22T20:43:57.320634343Z"
    }
   }
  },
  {
   "cell_type": "code",
   "execution_count": 6,
   "outputs": [
    {
     "data": {
      "text/plain": "(OrderedDict([('10.3390/ijms22031073',\n               PosixPath('/home/antonkulaga/sources/getpaper/notebooks/data/output/test/papers/10.3390/ijms22031073.pdf')),\n              ('10.1038/s41597-020-00710-z',\n               PosixPath('/home/antonkulaga/sources/getpaper/notebooks/data/output/test/papers/10.1038/s41597-020-00710-z.pdf'))]),\n ['wrong'])"
     },
     "execution_count": 6,
     "metadata": {},
     "output_type": "execute_result"
    }
   ],
   "source": [
    "results"
   ],
   "metadata": {
    "collapsed": false,
    "ExecuteTime": {
     "end_time": "2023-06-22T20:44:04.340437397Z",
     "start_time": "2023-06-22T20:44:04.335427050Z"
    }
   }
  },
  {
   "cell_type": "code",
   "execution_count": 7,
   "outputs": [
    {
     "data": {
      "text/plain": "OrderedDict([('10.3390/ijms22031073',\n              PosixPath('/home/antonkulaga/sources/getpaper/notebooks/data/output/test/papers/10.3390/ijms22031073.pdf')),\n             ('10.1038/s41597-020-00710-z',\n              PosixPath('/home/antonkulaga/sources/getpaper/notebooks/data/output/test/papers/10.1038/s41597-020-00710-z.pdf'))])"
     },
     "execution_count": 7,
     "metadata": {},
     "output_type": "execute_result"
    }
   ],
   "source": [
    "results[0]"
   ],
   "metadata": {
    "collapsed": false,
    "ExecuteTime": {
     "end_time": "2023-06-22T20:44:09.706062494Z",
     "start_time": "2023-06-22T20:44:09.671673345Z"
    }
   }
  },
  {
   "cell_type": "code",
   "execution_count": null,
   "outputs": [],
   "source": [],
   "metadata": {
    "collapsed": false
   }
  }
 ],
 "metadata": {
  "kernelspec": {
   "display_name": "Python 3",
   "language": "python",
   "name": "python3"
  },
  "language_info": {
   "codemirror_mode": {
    "name": "ipython",
    "version": 2
   },
   "file_extension": ".py",
   "mimetype": "text/x-python",
   "name": "python",
   "nbconvert_exporter": "python",
   "pygments_lexer": "ipython2",
   "version": "2.7.6"
  }
 },
 "nbformat": 4,
 "nbformat_minor": 0
}
